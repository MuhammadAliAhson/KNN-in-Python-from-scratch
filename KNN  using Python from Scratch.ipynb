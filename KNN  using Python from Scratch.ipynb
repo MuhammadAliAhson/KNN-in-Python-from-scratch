{
  "nbformat": 4,
  "nbformat_minor": 0,
  "metadata": {
    "colab": {
      "provenance": []
    },
    "kernelspec": {
      "name": "python3",
      "display_name": "Python 3"
    },
    "language_info": {
      "name": "python"
    }
  },
  "cells": [
    {
      "cell_type": "markdown",
      "source": [
        "KNN Implementation\n"
      ],
      "metadata": {
        "id": "RFKRzddaFvCI"
      }
    },
    {
      "cell_type": "code",
      "source": [
        "import pandas as pd\n",
        "import numpy as np\n",
        "import math\n",
        "from sklearn.model_selection import train_test_split\n",
        "from sklearn.metrics import classification_report\n",
        "from sklearn.metrics import f1_score"
      ],
      "metadata": {
        "id": "yY921v1WJGUp"
      },
      "execution_count": 17,
      "outputs": []
    },
    {
      "cell_type": "code",
      "source": [
        "df = pd.read_csv(\"/content/Iris.csv\")\n",
        "#df.head()\n",
        "\n",
        "coloumn_names = df.columns\n",
        "#coloumn_names\n",
        "\n",
        "X = df[coloumn_names[1:5]]\n",
        "\n",
        "X = X.to_numpy()"
      ],
      "metadata": {
        "id": "_pR55wZuK4bi"
      },
      "execution_count": 18,
      "outputs": []
    },
    {
      "cell_type": "code",
      "source": [
        "\n",
        "y = df[coloumn_names[5]]\n",
        "#y.head()\n",
        "classes = y.unique()\n",
        "dic ={}\n",
        "for i in range(len(classes)):\n",
        "  dic[i] = classes[i]"
      ],
      "metadata": {
        "id": "TJqnFVF_PVe9"
      },
      "execution_count": 19,
      "outputs": []
    },
    {
      "cell_type": "code",
      "source": [
        "for i in range(len(y)):\n",
        "  for j , val in dic.items():\n",
        "    if y[i] == val:\n",
        "      y.replace(val, j+1, inplace=True)"
      ],
      "metadata": {
        "id": "8E2gt2KuXDYV"
      },
      "execution_count": 20,
      "outputs": []
    },
    {
      "cell_type": "code",
      "source": [
        "y = y.to_numpy()\n",
        "y"
      ],
      "metadata": {
        "colab": {
          "base_uri": "https://localhost:8080/"
        },
        "id": "l3HwcrC1ZNml",
        "outputId": "5b6e90f4-a4f8-4393-c287-e82a961b76f4"
      },
      "execution_count": 21,
      "outputs": [
        {
          "output_type": "execute_result",
          "data": {
            "text/plain": [
              "array([1, 1, 1, 1, 1, 1, 1, 1, 1, 1, 1, 1, 1, 1, 1, 1, 1, 1, 1, 1, 1, 1,\n",
              "       1, 1, 1, 1, 1, 1, 1, 1, 1, 1, 1, 1, 1, 1, 1, 1, 1, 1, 1, 1, 1, 1,\n",
              "       1, 1, 1, 1, 1, 1, 2, 2, 2, 2, 2, 2, 2, 2, 2, 2, 2, 2, 2, 2, 2, 2,\n",
              "       2, 2, 2, 2, 2, 2, 2, 2, 2, 2, 2, 2, 2, 2, 2, 2, 2, 2, 2, 2, 2, 2,\n",
              "       2, 2, 2, 2, 2, 2, 2, 2, 2, 2, 2, 2, 3, 3, 3, 3, 3, 3, 3, 3, 3, 3,\n",
              "       3, 3, 3, 3, 3, 3, 3, 3, 3, 3, 3, 3, 3, 3, 3, 3, 3, 3, 3, 3, 3, 3,\n",
              "       3, 3, 3, 3, 3, 3, 3, 3, 3, 3, 3, 3, 3, 3, 3, 3, 3, 3])"
            ]
          },
          "metadata": {},
          "execution_count": 21
        }
      ]
    },
    {
      "cell_type": "code",
      "execution_count": 22,
      "metadata": {
        "id": "gz8X1BTEczpX"
      },
      "outputs": [],
      "source": [
        "#First we need to keep in mind that value of k should be odd and it is sqrt of the total number of dataset\n",
        "\n",
        "#Creating Class for KNN\n",
        "\n",
        "import numpy as np\n",
        "\n",
        "class KNN:\n",
        "    def __init__(self):\n",
        "        pass\n",
        "    def __euclidean_distance(self, x, y) :\n",
        "        dist = np.sqrt(np.sum((x - y) ** 2))\n",
        "        return dist\n",
        "\n",
        "    def calculate_knn(self, X_train, y_train, X_test, k):\n",
        "        y_pred = []\n",
        "\n",
        "        for i in range(len(X_test)):\n",
        "            distances = []\n",
        "            for j in range(len(X_train)):\n",
        "                dist = self.__euclidean_distance(X_test[i], X_train[j])\n",
        "                distances.append((dist, y_train[j]))\n",
        "\n",
        "            distances.sort()\n",
        "\n",
        "            neighbors = distances[:k]\n",
        "\n",
        "            counts = {}\n",
        "\n",
        "            for neighbor in neighbors:\n",
        "                label = neighbor[1]\n",
        "                if label in counts:\n",
        "                    counts[label] += 1\n",
        "                else:\n",
        "                    counts[label] = 1\n",
        "\n",
        "            max_count = max(counts, key=counts.get)\n",
        "            y_pred.append(max_count)\n",
        "\n",
        "        return y_pred\n",
        "\n"
      ]
    },
    {
      "cell_type": "code",
      "source": [
        "def calcluate_K(X_train)-> int:\n",
        "  s = len(X_train)\n",
        "  k = int(math.sqrt(s))\n",
        "  if k % 2 == 0:\n",
        "    k = k-1\n",
        "    return k\n",
        "  else:\n",
        "    return k\n",
        "\n",
        "\n",
        "\n",
        "\n",
        "\n",
        "\n",
        "\n",
        "\n",
        "\n",
        "def main():\n",
        "  X_train, X_test, y_train, y_test = train_test_split(X,y,test_size=0.90)\n",
        "  k = calcluate_K(X_train)\n",
        "  predict = KNN()\n",
        "  result = predict.calculate_knn(X_train,y_train,X_test,k)\n",
        "  #print(result)\n",
        "  r = np.asarray(result)\n",
        "  f = f1_score(r,y_test,average=\"micro\")\n",
        "  print(f)\n",
        "  print(p)\n",
        "  target_names = ['class 1', 'class 2', 'class 3']\n",
        "  print(classification_report(y_test, r, target_names=target_names))\n",
        "\n",
        "\n",
        "\n"
      ],
      "metadata": {
        "id": "AjH5DhdXI3DJ"
      },
      "execution_count": 23,
      "outputs": []
    },
    {
      "cell_type": "code",
      "source": [
        "if __name__ == \"__main__\":\n",
        "  main()\n",
        "\n"
      ],
      "metadata": {
        "colab": {
          "base_uri": "https://localhost:8080/"
        },
        "id": "lQCKWqS5IUHu",
        "outputId": "bb4ee18b-58c4-491b-d314-3a02bca39aa5"
      },
      "execution_count": 24,
      "outputs": [
        {
          "output_type": "stream",
          "name": "stdout",
          "text": [
            "0.9259259259259259\n",
            "1.0222222222222221\n",
            "              precision    recall  f1-score   support\n",
            "\n",
            "     class 1       1.00      1.00      1.00        44\n",
            "     class 2       0.95      0.83      0.89        47\n",
            "     class 3       0.84      0.95      0.89        44\n",
            "\n",
            "    accuracy                           0.93       135\n",
            "   macro avg       0.93      0.93      0.93       135\n",
            "weighted avg       0.93      0.93      0.93       135\n",
            "\n"
          ]
        }
      ]
    },
    {
      "cell_type": "code",
      "source": [],
      "metadata": {
        "id": "MMiqkbU-qvf4"
      },
      "execution_count": 49,
      "outputs": []
    }
  ]
}